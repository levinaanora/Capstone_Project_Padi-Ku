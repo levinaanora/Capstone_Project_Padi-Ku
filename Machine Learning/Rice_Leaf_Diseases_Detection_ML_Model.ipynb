{
  "nbformat": 4,
  "nbformat_minor": 0,
  "metadata": {
    "colab": {
      "name": "Rice Leaf Desease Detection ML Model.ipynb",
      "provenance": []
    },
    "kernelspec": {
      "name": "python3",
      "display_name": "Python 3"
    },
    "language_info": {
      "name": "python"
    }
  },
  "cells": [
    {
      "cell_type": "markdown",
      "metadata": {
        "id": "WiVBfwZfaeRv"
      },
      "source": [
        "Kode di bawah buat download datasetnya"
      ]
    },
    {
      "cell_type": "code",
      "metadata": {
        "colab": {
          "base_uri": "https://localhost:8080/"
        },
        "id": "zo3bkVvQV2VR",
        "outputId": "c67384b7-0fc2-4401-9e82-5f30b05a05ce"
      },
      "source": [
        "from google.colab import drive\n",
        "drive.mount('/content/gdrive')"
      ],
      "execution_count": 1,
      "outputs": [
        {
          "output_type": "stream",
          "text": [
            "Mounted at /content/gdrive\n"
          ],
          "name": "stdout"
        }
      ]
    },
    {
      "cell_type": "code",
      "metadata": {
        "colab": {
          "base_uri": "https://localhost:8080/"
        },
        "id": "bhlNqNsnW4OK",
        "outputId": "9ea052ba-211c-4f47-ee1e-99ed91b6923c"
      },
      "source": [
        "import os\n",
        "os.environ['KAGGLE_CONFIG_DIR'] = \"/content/gdrive/My Drive/Kaggle/Rice Plant Detection\"\n",
        "%cd /content/gdrive/My Drive/Kaggle/Rice Plant Detection\n"
      ],
      "execution_count": 3,
      "outputs": [
        {
          "output_type": "stream",
          "text": [
            "/content/gdrive/My Drive/Kaggle/Rice Plant Detection\n"
          ],
          "name": "stdout"
        }
      ]
    },
    {
      "cell_type": "code",
      "metadata": {
        "id": "WZKp5hNnXmMy"
      },
      "source": [
        "! kaggle datasets download -d minhhuy2810/rice-diseases-image-dataset"
      ],
      "execution_count": null,
      "outputs": []
    },
    {
      "cell_type": "code",
      "metadata": {
        "id": "GoDDTCpFaJxw"
      },
      "source": [
        "!unzip \\*.zip  && rm *.zip"
      ],
      "execution_count": null,
      "outputs": []
    },
    {
      "cell_type": "markdown",
      "metadata": {
        "id": "7v7olbDIdBeJ"
      },
      "source": [
        "# MACHINE LEARNING STARTS HERE"
      ]
    },
    {
      "cell_type": "code",
      "metadata": {
        "id": "E71EJXjbdKNm"
      },
      "source": [
        "Training_dir = os.path.join(\"/content/gdrive/MyDrive/Kaggle/Rice Plant Detection/RiceDiseaseDataset/train\")\n",
        "Testing_dir = os.path.join(\"/content/gdrive/MyDrive/Kaggle/Rice Plant Detection/RiceDiseaseDataset/validation\")\n",
        "brownspot_dir = os.path.join(\"/content/gdrive/MyDrive/Kaggle/Rice Plant Detection/RiceDiseaseDataset/train/BrownSpot\")\n",
        "healthy_dir = os.path.join(\"/content/gdrive/MyDrive/Kaggle/Rice Plant Detection/RiceDiseaseDataset/train/Healthy\")\n",
        "hispa_dir = os.path.join(\"/content/gdrive/MyDrive/Kaggle/Rice Plant Detection/RiceDiseaseDataset/train/Hispa\")\n",
        "leafblast_dir = os.path.join(\"/content/gdrive/MyDrive/Kaggle/Rice Plant Detection/RiceDiseaseDataset/train/LeafBlast\")\n",
        "brownspot_files = os.listdir(brownspot_dir)\n",
        "healthy_files = os.listdir(healthy_dir)\n",
        "hispa_files = os.listdir(hispa_dir)\n",
        "leafblast_files = os.listdir(leafblast_dir)\n"
      ],
      "execution_count": 4,
      "outputs": []
    },
    {
      "cell_type": "code",
      "metadata": {
        "id": "fDqjLFXSfOt3"
      },
      "source": [
        "print('total training brown spot:', len(os.listdir(brownspot_dir)))\n",
        "print('total training healthy:', len(os.listdir(healthy_dir)))\n",
        "print('total training hispa:', len(os.listdir(hispa_dir)))\n",
        "print('total training leaf blast:', len(os.listdir(leafblast_dir)))"
      ],
      "execution_count": null,
      "outputs": []
    },
    {
      "cell_type": "code",
      "metadata": {
        "id": "KTZGmIbGfoTK"
      },
      "source": [
        "%matplotlib inline\n",
        "\n",
        "import matplotlib.pyplot as plt\n",
        "import matplotlib.image as mpimg\n",
        "\n",
        "pic_index = 2\n",
        "\n",
        "next_brownspot = [os.path.join(brownspot_dir, fname) \n",
        "                for fname in brownspot_files[pic_index-2:pic_index]]\n",
        "next_healthy = [os.path.join(healthy_dir, fname) \n",
        "                for fname in healthy_files[pic_index-2:pic_index]]\n",
        "next_hispa = [os.path.join(hispa_dir, fname) \n",
        "                for fname in hispa_files[pic_index-2:pic_index]]\n",
        "next_leafblast = [os.path.join(leafblast_dir, fname) \n",
        "                for fname in leafblast_files[pic_index-2:pic_index]]\n",
        "\n",
        "for i, img_path in enumerate(next_brownspot+next_healthy+next_hispa+next_leafblast):\n",
        "  img = mpimg.imread(img_path)\n",
        "  plt.imshow(img)\n",
        "  plt.axis('Off')\n",
        "  plt.show()"
      ],
      "execution_count": null,
      "outputs": []
    },
    {
      "cell_type": "code",
      "metadata": {
        "id": "LH653c_hhR39"
      },
      "source": [
        "import tensorflow as tf\n",
        "import keras_preprocessing\n",
        "from keras_preprocessing import image\n",
        "from keras_preprocessing.image import ImageDataGenerator"
      ],
      "execution_count": 7,
      "outputs": []
    },
    {
      "cell_type": "code",
      "metadata": {
        "id": "35NXDAh6haqe"
      },
      "source": [
        "training_datagen = ImageDataGenerator(\n",
        "      rescale = 1./255,\n",
        "\t    rotation_range=90,\n",
        "      width_shift_range=0.2,\n",
        "      height_shift_range=0.2,\n",
        "      shear_range=0.2,\n",
        "      zoom_range=0.2,\n",
        "      horizontal_flip=True,\n",
        "      fill_mode='nearest')\n",
        "validation_datagen = ImageDataGenerator(rescale = 1./255)\n",
        "\n",
        "train_generator = training_datagen.flow_from_directory(\n",
        "\tTraining_dir,\n",
        "\ttarget_size=(150,150),\n",
        "\tclass_mode='categorical',\n",
        "  batch_size=100\n",
        ")\n",
        "validation_generator = validation_datagen.flow_from_directory(\n",
        "\tTesting_dir,\n",
        "\ttarget_size=(150,150),\n",
        "\tclass_mode='categorical',\n",
        "  batch_size=100\n",
        ")"
      ],
      "execution_count": null,
      "outputs": []
    },
    {
      "cell_type": "code",
      "metadata": {
        "id": "bEaGou12hmdx"
      },
      "source": [
        "model = tf.keras.models.Sequential([\n",
        "    tf.keras.layers.Conv2D(64, (3,3), activation='relu', input_shape=(150, 150, 3)),\n",
        "    tf.keras.layers.MaxPooling2D(2, 2),\n",
        "\n",
        "    tf.keras.layers.Conv2D(128, (3,3), activation='relu'),\n",
        "    tf.keras.layers.MaxPooling2D(2,2),\n",
        "\n",
        "    tf.keras.layers.Conv2D(128, (3,3), activation='relu'),\n",
        "    tf.keras.layers.MaxPooling2D(2,2),\n",
        "\n",
        "    tf.keras.layers.Flatten(),\n",
        "    tf.keras.layers.Dropout(0.5),\n",
        "\n",
        "    tf.keras.layers.Dense(512, activation='relu'),\n",
        "    tf.keras.layers.Dense(4, activation='softmax')\n",
        "])"
      ],
      "execution_count": 11,
      "outputs": []
    },
    {
      "cell_type": "code",
      "metadata": {
        "id": "Szp40L92hpTJ"
      },
      "source": [
        "model.summary()\n",
        "\n",
        "model.compile(loss = 'categorical_crossentropy', optimizer='rmsprop', metrics=['accuracy'])\n",
        "\n",
        "history = model.fit(train_generator, epochs=16, steps_per_epoch=1000, validation_data = validation_generator, verbose = 1, validation_steps=3)"
      ],
      "execution_count": null,
      "outputs": []
    },
    {
      "cell_type": "code",
      "metadata": {
        "id": "wCsI65JHhy3G"
      },
      "source": [
        "import matplotlib.pyplot as plt\n",
        "acc = history.history['accuracy']\n",
        "val_acc = history.history['val_accuracy']\n",
        "loss = history.history['loss']\n",
        "val_loss = history.history['val_loss']\n",
        "\n",
        "epochs = range(len(acc))\n",
        "\n",
        "plt.plot(epochs, acc, 'r', label='Training accuracy')\n",
        "plt.plot(epochs, val_acc, 'b', label='Validation accuracy')\n",
        "plt.title('Training and validation accuracy')\n",
        "plt.legend(loc=0)\n",
        "plt.figure()\n",
        "\n",
        "\n",
        "plt.show()"
      ],
      "execution_count": null,
      "outputs": []
    }
  ]
}
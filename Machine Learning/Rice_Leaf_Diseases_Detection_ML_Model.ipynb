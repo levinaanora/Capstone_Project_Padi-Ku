{
  "nbformat": 4,
  "nbformat_minor": 0,
  "metadata": {
    "colab": {
      "name": "Rice Leaf Diseases Detection ML Model.ipynb",
      "provenance": []
    },
    "kernelspec": {
      "name": "python3",
      "display_name": "Python 3"
    },
    "language_info": {
      "name": "python"
    },
    "accelerator": "GPU"
  },
  "cells": [
    {
      "cell_type": "markdown",
      "metadata": {
        "id": "WiVBfwZfaeRv"
      },
      "source": [
        "Kode di bawah buat download datasetnya"
      ]
    },
    {
      "cell_type": "code",
      "metadata": {
        "id": "zo3bkVvQV2VR"
      },
      "source": [
        "! pip install -q kaggle"
      ],
      "execution_count": 1,
      "outputs": []
    },
    {
      "cell_type": "code",
      "metadata": {
        "id": "bhlNqNsnW4OK"
      },
      "source": [
        "import os\n",
        "from google.colab import files\n",
        "files.upload()\n"
      ],
      "execution_count": null,
      "outputs": []
    },
    {
      "cell_type": "code",
      "metadata": {
        "id": "nPPz9Epepo1a"
      },
      "source": [
        "! mkdir \"/content/kaggle\""
      ],
      "execution_count": 9,
      "outputs": []
    },
    {
      "cell_type": "code",
      "metadata": {
        "id": "Qwo3r3aHtbSr"
      },
      "source": [
        "! cp \"/content/kaggle.json\" \"/content/kaggle/\""
      ],
      "execution_count": 11,
      "outputs": []
    },
    {
      "cell_type": "code",
      "metadata": {
        "id": "2AOSB_AtsXDn"
      },
      "source": [
        "! chmod 600 \"/content/kaggle/kaggle.json\""
      ],
      "execution_count": 13,
      "outputs": []
    },
    {
      "cell_type": "code",
      "metadata": {
        "id": "WZKp5hNnXmMy"
      },
      "source": [
        "! kaggle datasets download -d minhhuy2810/rice-diseases-image-dataset"
      ],
      "execution_count": null,
      "outputs": []
    },
    {
      "cell_type": "code",
      "metadata": {
        "id": "GTqJgLqCu4iA"
      },
      "source": [
        "! mkdir \"/content/kaggle/datasets\""
      ],
      "execution_count": 15,
      "outputs": []
    },
    {
      "cell_type": "code",
      "metadata": {
        "id": "5WClulQdu_3N"
      },
      "source": [
        "! cp \"/content/rice-diseases-image-dataset.zip\" \"/content/kaggle/datasets\""
      ],
      "execution_count": 16,
      "outputs": []
    },
    {
      "cell_type": "code",
      "metadata": {
        "id": "aeBO_U26xksj"
      },
      "source": [
        "import os\n",
        "os.environ['KAGGLE_CONFIG_DIR'] = \"/content/kaggle\"\n",
        "%cd /content/kaggle/datasets/"
      ],
      "execution_count": null,
      "outputs": []
    },
    {
      "cell_type": "code",
      "metadata": {
        "id": "GoDDTCpFaJxw"
      },
      "source": [
        "!unzip \\*.zip  && rm *.zip"
      ],
      "execution_count": null,
      "outputs": []
    },
    {
      "cell_type": "markdown",
      "metadata": {
        "id": "7v7olbDIdBeJ"
      },
      "source": [
        "# MACHINE LEARNING STARTS HERE"
      ]
    },
    {
      "cell_type": "code",
      "metadata": {
        "id": "E71EJXjbdKNm"
      },
      "source": [
        "Training_dir = os.path.join(\"/content/kaggle/datasets/RiceDiseaseDataset/train\")\n",
        "Testing_dir = os.path.join(\"/content/kaggle/datasets/RiceDiseaseDataset/validation\")\n",
        "brownspot_dir = os.path.join(\"/content/kaggle/datasets/RiceDiseaseDataset/train/BrownSpot\")\n",
        "healthy_dir = os.path.join(\"/content/kaggle/datasets/RiceDiseaseDataset/train/Healthy\")\n",
        "hispa_dir = os.path.join(\"/content/kaggle/datasets/RiceDiseaseDataset/train/Hispa\")\n",
        "leafblast_dir = os.path.join(\"/content/kaggle/datasets/RiceDiseaseDataset/train/LeafBlast\")\n",
        "brownspot_files = os.listdir(brownspot_dir)\n",
        "healthy_files = os.listdir(healthy_dir)\n",
        "hispa_files = os.listdir(hispa_dir)\n",
        "leafblast_files = os.listdir(leafblast_dir)\n"
      ],
      "execution_count": 21,
      "outputs": []
    },
    {
      "cell_type": "code",
      "metadata": {
        "id": "fDqjLFXSfOt3",
        "colab": {
          "base_uri": "https://localhost:8080/"
        },
        "outputId": "692831b9-8597-493d-cd60-c8138e908b56"
      },
      "source": [
        "print('total training brown spot:', len(os.listdir(brownspot_dir)))\n",
        "print('total training healthy:', len(os.listdir(healthy_dir)))\n",
        "print('total training hispa:', len(os.listdir(hispa_dir)))\n",
        "print('total training leaf blast:', len(os.listdir(leafblast_dir)))"
      ],
      "execution_count": 22,
      "outputs": [
        {
          "output_type": "stream",
          "text": [
            "total training brown spot: 400\n",
            "total training healthy: 400\n",
            "total training hispa: 400\n",
            "total training leaf blast: 400\n"
          ],
          "name": "stdout"
        }
      ]
    },
    {
      "cell_type": "code",
      "metadata": {
        "id": "KTZGmIbGfoTK"
      },
      "source": [
        "%matplotlib inline\n",
        "\n",
        "import matplotlib.pyplot as plt\n",
        "import matplotlib.image as mpimg\n",
        "\n",
        "pic_index = 2\n",
        "\n",
        "next_brownspot = [os.path.join(brownspot_dir, fname) \n",
        "                for fname in brownspot_files[pic_index-2:pic_index]]\n",
        "next_healthy = [os.path.join(healthy_dir, fname) \n",
        "                for fname in healthy_files[pic_index-2:pic_index]]\n",
        "next_hispa = [os.path.join(hispa_dir, fname) \n",
        "                for fname in hispa_files[pic_index-2:pic_index]]\n",
        "next_leafblast = [os.path.join(leafblast_dir, fname) \n",
        "                for fname in leafblast_files[pic_index-2:pic_index]]\n",
        "\n",
        "for i, img_path in enumerate(next_brownspot+next_healthy+next_hispa+next_leafblast):\n",
        "  img = mpimg.imread(img_path)\n",
        "  plt.imshow(img)\n",
        "  plt.axis('Off')\n",
        "  plt.show()"
      ],
      "execution_count": null,
      "outputs": []
    },
    {
      "cell_type": "code",
      "metadata": {
        "id": "LH653c_hhR39"
      },
      "source": [
        "import tensorflow as tf\n",
        "import keras_preprocessing\n",
        "from keras_preprocessing import image\n",
        "from keras_preprocessing.image import ImageDataGenerator\n",
        "from keras.optimizers import Adam"
      ],
      "execution_count": 24,
      "outputs": []
    },
    {
      "cell_type": "code",
      "metadata": {
        "id": "35NXDAh6haqe",
        "colab": {
          "base_uri": "https://localhost:8080/"
        },
        "outputId": "5151c3a9-de75-4487-f390-f6ef68098217"
      },
      "source": [
        "training_datagen = ImageDataGenerator(\n",
        "      rescale = 1./255,\n",
        "\t    rotation_range=30,\n",
        "      width_shift_range=0.2,\n",
        "      height_shift_range=0.2,\n",
        "      shear_range=0.2,\n",
        "      zoom_range=0.2,\n",
        "      horizontal_flip=True,\n",
        "      fill_mode='nearest')\n",
        "validation_datagen = ImageDataGenerator(rescale = 1./255)\n",
        "\n",
        "train_generator = training_datagen.flow_from_directory(\n",
        "\tTraining_dir,\n",
        "\ttarget_size=(256,256),\n",
        "\tclass_mode='categorical',\n",
        "  batch_size=32\n",
        ")\n",
        "validation_generator = validation_datagen.flow_from_directory(\n",
        "\tTesting_dir,\n",
        "\ttarget_size=(256,256),\n",
        "\tclass_mode='categorical',\n",
        "  batch_size=32\n",
        ")"
      ],
      "execution_count": 25,
      "outputs": [
        {
          "output_type": "stream",
          "text": [
            "Found 1600 images belonging to 4 classes.\n",
            "Found 492 images belonging to 4 classes.\n"
          ],
          "name": "stdout"
        }
      ]
    },
    {
      "cell_type": "code",
      "metadata": {
        "id": "bEaGou12hmdx"
      },
      "source": [
        "model = tf.keras.models.Sequential([\n",
        "    tf.keras.layers.Conv2D(32, (3,3), activation='relu', input_shape=(256, 256, 3)),\n",
        "    tf.keras.layers.MaxPooling2D(2, 2),\n",
        "\n",
        "    tf.keras.layers.Conv2D(64, (3,3), activation='relu'),\n",
        "    tf.keras.layers.MaxPooling2D(2,2),\n",
        "\n",
        "    tf.keras.layers.Conv2D(64, (3,3), activation='relu'),\n",
        "    tf.keras.layers.MaxPooling2D(2,2),\n",
        "\n",
        "    tf.keras.layers.Conv2D(128, (3,3), activation='relu'),\n",
        "    tf.keras.layers.MaxPooling2D(2,2),\n",
        "\n",
        "    tf.keras.layers.Conv2D(128, (3,3), activation='relu'),\n",
        "    tf.keras.layers.MaxPooling2D(2,2),\n",
        "\n",
        "    tf.keras.layers.Flatten(),\n",
        "    tf.keras.layers.Dropout(0.25),\n",
        "\n",
        "    tf.keras.layers.Dense(1024, activation='relu'),\n",
        "    tf.keras.layers.Dropout(0.5),\n",
        "    tf.keras.layers.Dense(4, activation='softmax')\n",
        "])"
      ],
      "execution_count": 26,
      "outputs": []
    },
    {
      "cell_type": "code",
      "metadata": {
        "id": "Szp40L92hpTJ",
        "colab": {
          "base_uri": "https://localhost:8080/"
        },
        "outputId": "ed99348b-acef-4bb8-af20-03f386b1078c"
      },
      "source": [
        "model.summary()"
      ],
      "execution_count": 27,
      "outputs": [
        {
          "output_type": "stream",
          "text": [
            "Model: \"sequential\"\n",
            "_________________________________________________________________\n",
            "Layer (type)                 Output Shape              Param #   \n",
            "=================================================================\n",
            "conv2d (Conv2D)              (None, 254, 254, 32)      896       \n",
            "_________________________________________________________________\n",
            "max_pooling2d (MaxPooling2D) (None, 127, 127, 32)      0         \n",
            "_________________________________________________________________\n",
            "conv2d_1 (Conv2D)            (None, 125, 125, 64)      18496     \n",
            "_________________________________________________________________\n",
            "max_pooling2d_1 (MaxPooling2 (None, 62, 62, 64)        0         \n",
            "_________________________________________________________________\n",
            "conv2d_2 (Conv2D)            (None, 60, 60, 64)        36928     \n",
            "_________________________________________________________________\n",
            "max_pooling2d_2 (MaxPooling2 (None, 30, 30, 64)        0         \n",
            "_________________________________________________________________\n",
            "conv2d_3 (Conv2D)            (None, 28, 28, 128)       73856     \n",
            "_________________________________________________________________\n",
            "max_pooling2d_3 (MaxPooling2 (None, 14, 14, 128)       0         \n",
            "_________________________________________________________________\n",
            "conv2d_4 (Conv2D)            (None, 12, 12, 128)       147584    \n",
            "_________________________________________________________________\n",
            "max_pooling2d_4 (MaxPooling2 (None, 6, 6, 128)         0         \n",
            "_________________________________________________________________\n",
            "flatten (Flatten)            (None, 4608)              0         \n",
            "_________________________________________________________________\n",
            "dropout (Dropout)            (None, 4608)              0         \n",
            "_________________________________________________________________\n",
            "dense (Dense)                (None, 1024)              4719616   \n",
            "_________________________________________________________________\n",
            "dropout_1 (Dropout)          (None, 1024)              0         \n",
            "_________________________________________________________________\n",
            "dense_1 (Dense)              (None, 4)                 4100      \n",
            "=================================================================\n",
            "Total params: 5,001,476\n",
            "Trainable params: 5,001,476\n",
            "Non-trainable params: 0\n",
            "_________________________________________________________________\n"
          ],
          "name": "stdout"
        }
      ]
    },
    {
      "cell_type": "code",
      "metadata": {
        "id": "nxcFhmspjF-3"
      },
      "source": [
        "loss_param = \"categorical_crossentropy\"\n",
        "EPOCHS = 40\n",
        "optim = Adam(lr=0.0001, decay=0.0001 / EPOCHS)\n",
        "steps = 1600 // 32"
      ],
      "execution_count": 28,
      "outputs": []
    },
    {
      "cell_type": "code",
      "metadata": {
        "colab": {
          "base_uri": "https://localhost:8080/"
        },
        "id": "h1u6bUBCf6Wu",
        "outputId": "19f0d9aa-b843-4c17-c339-2fe03cc96da7"
      },
      "source": [
        "model.compile(loss = loss_param, optimizer= optim, metrics=['accuracy'])\n",
        "history = model.fit(train_generator, epochs=EPOCHS, steps_per_epoch=steps, validation_data = validation_generator, verbose = 1, validation_steps=3)"
      ],
      "execution_count": 29,
      "outputs": [
        {
          "output_type": "stream",
          "text": [
            "Epoch 1/40\n",
            "50/50 [==============================] - 221s 4s/step - loss: 1.3902 - accuracy: 0.2577 - val_loss: 1.3793 - val_accuracy: 0.3021\n",
            "Epoch 2/40\n",
            "50/50 [==============================] - 176s 4s/step - loss: 1.3625 - accuracy: 0.3486 - val_loss: 1.2361 - val_accuracy: 0.4688\n",
            "Epoch 3/40\n",
            "50/50 [==============================] - 165s 3s/step - loss: 1.2210 - accuracy: 0.4366 - val_loss: 1.3203 - val_accuracy: 0.3958\n",
            "Epoch 4/40\n",
            "50/50 [==============================] - 166s 3s/step - loss: 1.2293 - accuracy: 0.3776 - val_loss: 1.2049 - val_accuracy: 0.4479\n",
            "Epoch 5/40\n",
            "50/50 [==============================] - 164s 3s/step - loss: 1.1695 - accuracy: 0.4443 - val_loss: 1.3884 - val_accuracy: 0.3646\n",
            "Epoch 6/40\n",
            "50/50 [==============================] - 163s 3s/step - loss: 1.1903 - accuracy: 0.4545 - val_loss: 1.2189 - val_accuracy: 0.3750\n",
            "Epoch 7/40\n",
            "50/50 [==============================] - 163s 3s/step - loss: 1.1541 - accuracy: 0.4614 - val_loss: 1.2294 - val_accuracy: 0.4375\n",
            "Epoch 8/40\n",
            "50/50 [==============================] - 164s 3s/step - loss: 1.1492 - accuracy: 0.4640 - val_loss: 1.1751 - val_accuracy: 0.4688\n",
            "Epoch 9/40\n",
            "50/50 [==============================] - 165s 3s/step - loss: 1.1459 - accuracy: 0.4577 - val_loss: 1.1881 - val_accuracy: 0.4271\n",
            "Epoch 10/40\n",
            "50/50 [==============================] - 166s 3s/step - loss: 1.1360 - accuracy: 0.4868 - val_loss: 1.1136 - val_accuracy: 0.4479\n",
            "Epoch 11/40\n",
            "50/50 [==============================] - 164s 3s/step - loss: 1.1038 - accuracy: 0.5073 - val_loss: 1.1691 - val_accuracy: 0.4583\n",
            "Epoch 12/40\n",
            "50/50 [==============================] - 165s 3s/step - loss: 1.1152 - accuracy: 0.4804 - val_loss: 1.2367 - val_accuracy: 0.4375\n",
            "Epoch 13/40\n",
            "50/50 [==============================] - 164s 3s/step - loss: 1.1188 - accuracy: 0.5019 - val_loss: 1.2450 - val_accuracy: 0.3750\n",
            "Epoch 14/40\n",
            "50/50 [==============================] - 163s 3s/step - loss: 1.1304 - accuracy: 0.4772 - val_loss: 1.1286 - val_accuracy: 0.4271\n",
            "Epoch 15/40\n",
            "50/50 [==============================] - 164s 3s/step - loss: 1.1054 - accuracy: 0.4745 - val_loss: 1.1865 - val_accuracy: 0.4688\n",
            "Epoch 16/40\n",
            "50/50 [==============================] - 164s 3s/step - loss: 1.1027 - accuracy: 0.4809 - val_loss: 1.0576 - val_accuracy: 0.4375\n",
            "Epoch 17/40\n",
            "50/50 [==============================] - 164s 3s/step - loss: 1.0837 - accuracy: 0.5153 - val_loss: 1.3153 - val_accuracy: 0.3438\n",
            "Epoch 18/40\n",
            "50/50 [==============================] - 163s 3s/step - loss: 1.0851 - accuracy: 0.4941 - val_loss: 1.1052 - val_accuracy: 0.5312\n",
            "Epoch 19/40\n",
            "50/50 [==============================] - 165s 3s/step - loss: 1.0928 - accuracy: 0.4851 - val_loss: 1.1997 - val_accuracy: 0.4479\n",
            "Epoch 20/40\n",
            "50/50 [==============================] - 164s 3s/step - loss: 1.0671 - accuracy: 0.4997 - val_loss: 1.1345 - val_accuracy: 0.3854\n",
            "Epoch 21/40\n",
            "50/50 [==============================] - 164s 3s/step - loss: 1.0869 - accuracy: 0.4946 - val_loss: 1.2204 - val_accuracy: 0.3646\n",
            "Epoch 22/40\n",
            "50/50 [==============================] - 164s 3s/step - loss: 1.1347 - accuracy: 0.4687 - val_loss: 1.3359 - val_accuracy: 0.3750\n",
            "Epoch 23/40\n",
            "50/50 [==============================] - 163s 3s/step - loss: 1.0768 - accuracy: 0.5068 - val_loss: 1.2292 - val_accuracy: 0.4271\n",
            "Epoch 24/40\n",
            "50/50 [==============================] - 164s 3s/step - loss: 1.0820 - accuracy: 0.4966 - val_loss: 1.1070 - val_accuracy: 0.4479\n",
            "Epoch 25/40\n",
            "50/50 [==============================] - 163s 3s/step - loss: 1.0482 - accuracy: 0.5154 - val_loss: 1.1746 - val_accuracy: 0.4167\n",
            "Epoch 26/40\n",
            "50/50 [==============================] - 163s 3s/step - loss: 1.0746 - accuracy: 0.5069 - val_loss: 1.1193 - val_accuracy: 0.4479\n",
            "Epoch 27/40\n",
            "50/50 [==============================] - 163s 3s/step - loss: 1.0620 - accuracy: 0.4945 - val_loss: 1.2304 - val_accuracy: 0.4479\n",
            "Epoch 28/40\n",
            "50/50 [==============================] - 163s 3s/step - loss: 1.0690 - accuracy: 0.5174 - val_loss: 1.2461 - val_accuracy: 0.4062\n",
            "Epoch 29/40\n",
            "50/50 [==============================] - 163s 3s/step - loss: 1.0522 - accuracy: 0.5224 - val_loss: 1.2513 - val_accuracy: 0.4271\n",
            "Epoch 30/40\n",
            "50/50 [==============================] - 164s 3s/step - loss: 1.0836 - accuracy: 0.5204 - val_loss: 1.1164 - val_accuracy: 0.4896\n",
            "Epoch 31/40\n",
            "50/50 [==============================] - 164s 3s/step - loss: 1.0410 - accuracy: 0.5269 - val_loss: 1.3554 - val_accuracy: 0.3854\n",
            "Epoch 32/40\n",
            "50/50 [==============================] - 163s 3s/step - loss: 1.0726 - accuracy: 0.5287 - val_loss: 1.2423 - val_accuracy: 0.4479\n",
            "Epoch 33/40\n",
            "50/50 [==============================] - 163s 3s/step - loss: 1.0660 - accuracy: 0.5257 - val_loss: 1.2779 - val_accuracy: 0.3542\n",
            "Epoch 34/40\n",
            "50/50 [==============================] - 163s 3s/step - loss: 1.0345 - accuracy: 0.5266 - val_loss: 1.0795 - val_accuracy: 0.4688\n",
            "Epoch 35/40\n",
            "50/50 [==============================] - 163s 3s/step - loss: 1.0370 - accuracy: 0.5358 - val_loss: 1.1483 - val_accuracy: 0.5521\n",
            "Epoch 36/40\n",
            "50/50 [==============================] - 163s 3s/step - loss: 1.0532 - accuracy: 0.5208 - val_loss: 1.1941 - val_accuracy: 0.4375\n",
            "Epoch 37/40\n",
            "50/50 [==============================] - 165s 3s/step - loss: 1.0470 - accuracy: 0.5228 - val_loss: 1.1578 - val_accuracy: 0.4479\n",
            "Epoch 38/40\n",
            "50/50 [==============================] - 165s 3s/step - loss: 1.0168 - accuracy: 0.5369 - val_loss: 1.1754 - val_accuracy: 0.4479\n",
            "Epoch 39/40\n",
            "50/50 [==============================] - 166s 3s/step - loss: 1.0575 - accuracy: 0.5117 - val_loss: 1.2866 - val_accuracy: 0.4375\n",
            "Epoch 40/40\n",
            "50/50 [==============================] - 165s 3s/step - loss: 1.0350 - accuracy: 0.5520 - val_loss: 1.0351 - val_accuracy: 0.5729\n"
          ],
          "name": "stdout"
        }
      ]
    },
    {
      "cell_type": "code",
      "metadata": {
        "id": "wCsI65JHhy3G",
        "colab": {
          "base_uri": "https://localhost:8080/",
          "height": 298
        },
        "outputId": "8dcc2ef9-444e-4d20-9dcc-140e62257b1f"
      },
      "source": [
        "import matplotlib.pyplot as plt\n",
        "acc = history.history['accuracy']\n",
        "val_acc = history.history['val_accuracy']\n",
        "loss = history.history['loss']\n",
        "val_loss = history.history['val_loss']\n",
        "\n",
        "epochs = range(len(acc))\n",
        "\n",
        "plt.plot(epochs, acc, 'r', label='Training accuracy')\n",
        "plt.plot(epochs, val_acc, 'b', label='Validation accuracy')\n",
        "plt.title('Training and validation accuracy')\n",
        "plt.legend(loc=0)\n",
        "plt.figure()\n",
        "\n",
        "\n",
        "plt.show()"
      ],
      "execution_count": 30,
      "outputs": [
        {
          "output_type": "display_data",
          "data": {
            "image/png": "[encoded data removed]",
            "text/plain": [
              "<Figure size 432x288 with 1 Axes>"
            ]
          },
          "metadata": {
            "tags": [],
            "needs_background": "light"
          }
        },
        {
          "output_type": "display_data",
          "data": {
            "text/plain": [
              "<Figure size 432x288 with 0 Axes>"
            ]
          },
          "metadata": {
            "tags": []
          }
        }
      ]
    }
  ]
}
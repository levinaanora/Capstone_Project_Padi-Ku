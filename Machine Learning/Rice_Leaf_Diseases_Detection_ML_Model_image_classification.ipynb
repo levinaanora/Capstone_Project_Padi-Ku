{
  "nbformat": 4,
  "nbformat_minor": 0,
  "metadata": {
    "colab": {
      "name": "Rice Leaf Diseases Detection ML Model.ipynb",
      "provenance": [],
      "toc_visible": true
    },
    "kernelspec": {
      "name": "python3",
      "display_name": "Python 3"
    },
    "language_info": {
      "name": "python"
    },
    "accelerator": "GPU"
  },
  "cells": [
    {
      "cell_type": "markdown",
      "metadata": {
        "id": "qwRlQDtXFNlM"
      },
      "source": [
        "# Code for 70 datasets"
      ]
    },
    {
      "cell_type": "code",
      "metadata": {
        "id": "0UKKj5zumBGR"
      },
      "source": [
        "! mkdir \"/content/kaggle\"\n",
        "! mkdir \"/content/kaggle/datasets\"\n",
        "! cp -r \"/content/drive/MyDrive/Dataset 70\" \"/content/kaggle/datasets\""
      ],
      "execution_count": 1,
      "outputs": []
    },
    {
      "cell_type": "code",
      "metadata": {
        "id": "LH653c_hhR39"
      },
      "source": [
        "import tensorflow as tf\n",
        "import keras_preprocessing\n",
        "import matplotlib.pyplot as plt\n",
        "from keras_preprocessing import image\n",
        "from keras_preprocessing.image import ImageDataGenerator\n",
        "from keras.optimizers import Adam\n",
        "from keras.applications import DenseNet201\n",
        "training_dir = \"/content/kaggle/datasets/Dataset 70/train\"\n",
        "validation_dir = \"/content/kaggle/datasets/Dataset 70/validation\""
      ],
      "execution_count": 3,
      "outputs": []
    },
    {
      "cell_type": "code",
      "metadata": {
        "id": "nxcFhmspjF-3",
        "colab": {
          "base_uri": "https://localhost:8080/"
        },
        "outputId": "a51d02ac-418e-40e2-a351-965c99eb0d0a"
      },
      "source": [
        "training_datagen = ImageDataGenerator(\n",
        "      rescale = 1./255,\n",
        "\t    rotation_range=30,\n",
        "      width_shift_range=0.2,\n",
        "      height_shift_range=0.2,\n",
        "      shear_range=0.2,\n",
        "      zoom_range=0.2,\n",
        "      horizontal_flip=True,\n",
        "      fill_mode='nearest')\n",
        "validation_datagen = ImageDataGenerator(rescale = 1./255)\n",
        "\n",
        "train_generator = training_datagen.flow_from_directory(\n",
        "\ttraining_dir,\n",
        "\ttarget_size=(300,300),\n",
        "\tclass_mode='categorical',\n",
        "  batch_size=10\n",
        ")\n",
        "validation_generator = validation_datagen.flow_from_directory(\n",
        "\tvalidation_dir,\n",
        "\ttarget_size=(300,300),\n",
        "\tclass_mode='categorical',\n",
        "  batch_size=10\n",
        ")"
      ],
      "execution_count": 22,
      "outputs": [
        {
          "output_type": "stream",
          "text": [
            "Found 490 images belonging to 7 classes.\n",
            "Found 70 images belonging to 7 classes.\n"
          ],
          "name": "stdout"
        }
      ]
    },
    {
      "cell_type": "code",
      "metadata": {
        "id": "8rHHLvHtTu6Y"
      },
      "source": [
        "pretrained_model = tf.keras.applications.DenseNet201(input_shape=(300,300,3),include_top=False,weights='imagenet',pooling='avg')\n",
        "pretrained_model.trainable = False"
      ],
      "execution_count": 23,
      "outputs": []
    },
    {
      "cell_type": "code",
      "metadata": {
        "id": "QfQmFzOvTD-I"
      },
      "source": [
        "input_model = pretrained_model.input\n",
        "layer_tambah = tf.keras.layers.Dense(512, activation='relu')(pretrained_model.output)\n",
        "output_model = tf.keras.layers.Dense(7, activation='softmax')(layer_tambah)\n",
        "model = tf.keras.Model(inputs=input_model, outputs=output_model)"
      ],
      "execution_count": 24,
      "outputs": []
    },
    {
      "cell_type": "code",
      "metadata": {
        "id": "q4wOqx3JgN4W"
      },
      "source": [
        "model.summary()"
      ],
      "execution_count": null,
      "outputs": []
    },
    {
      "cell_type": "code",
      "metadata": {
        "id": "8XteoPNKg_X7"
      },
      "source": [
        "loss_param = \"categorical_crossentropy\"\n",
        "EPOCHS = 40\n",
        "optim = Adam(lr=0.0001)\n",
        "steps = 49"
      ],
      "execution_count": 25,
      "outputs": []
    },
    {
      "cell_type": "code",
      "metadata": {
        "id": "Yj7SxhualCJj",
        "colab": {
          "base_uri": "https://localhost:8080/"
        },
        "outputId": "a71628bb-63e5-4fc2-f417-19e14fb0ac43"
      },
      "source": [
        "model.compile(loss = loss_param, optimizer= optim, metrics=['accuracy'])\n",
        "history = model.fit(train_generator, epochs=EPOCHS, steps_per_epoch=steps, validation_data = validation_generator, verbose = 1, validation_steps=3)"
      ],
      "execution_count": 26,
      "outputs": [
        {
          "output_type": "stream",
          "text": [
            "Epoch 1/40\n",
            "49/49 [==============================] - 55s 888ms/step - loss: 1.7895 - accuracy: 0.3245 - val_loss: 1.3755 - val_accuracy: 0.5667\n",
            "Epoch 2/40\n",
            "49/49 [==============================] - 41s 829ms/step - loss: 1.0381 - accuracy: 0.6323 - val_loss: 1.6503 - val_accuracy: 0.4333\n",
            "Epoch 3/40\n",
            "49/49 [==============================] - 40s 819ms/step - loss: 0.8149 - accuracy: 0.7563 - val_loss: 1.8266 - val_accuracy: 0.4333\n",
            "Epoch 4/40\n",
            "49/49 [==============================] - 40s 825ms/step - loss: 0.7155 - accuracy: 0.7575 - val_loss: 1.6770 - val_accuracy: 0.4000\n",
            "Epoch 5/40\n",
            "49/49 [==============================] - 40s 821ms/step - loss: 0.6373 - accuracy: 0.8034 - val_loss: 1.9108 - val_accuracy: 0.5000\n",
            "Epoch 6/40\n",
            "49/49 [==============================] - 40s 812ms/step - loss: 0.5804 - accuracy: 0.7644 - val_loss: 1.5761 - val_accuracy: 0.5000\n",
            "Epoch 7/40\n",
            "49/49 [==============================] - 40s 824ms/step - loss: 0.5150 - accuracy: 0.8166 - val_loss: 2.2022 - val_accuracy: 0.3667\n",
            "Epoch 8/40\n",
            "49/49 [==============================] - 40s 822ms/step - loss: 0.5255 - accuracy: 0.8206 - val_loss: 1.4040 - val_accuracy: 0.5000\n",
            "Epoch 9/40\n",
            "49/49 [==============================] - 40s 810ms/step - loss: 0.4793 - accuracy: 0.8091 - val_loss: 2.1450 - val_accuracy: 0.4333\n",
            "Epoch 10/40\n",
            "49/49 [==============================] - 40s 817ms/step - loss: 0.4885 - accuracy: 0.8180 - val_loss: 2.5299 - val_accuracy: 0.3667\n",
            "Epoch 11/40\n",
            "49/49 [==============================] - 40s 823ms/step - loss: 0.4689 - accuracy: 0.8246 - val_loss: 1.4132 - val_accuracy: 0.6000\n",
            "Epoch 12/40\n",
            "49/49 [==============================] - 40s 817ms/step - loss: 0.4283 - accuracy: 0.8537 - val_loss: 1.9664 - val_accuracy: 0.5667\n",
            "Epoch 13/40\n",
            "49/49 [==============================] - 40s 816ms/step - loss: 0.4405 - accuracy: 0.8581 - val_loss: 2.6146 - val_accuracy: 0.3667\n",
            "Epoch 14/40\n",
            "49/49 [==============================] - 40s 827ms/step - loss: 0.4460 - accuracy: 0.8322 - val_loss: 2.2077 - val_accuracy: 0.5333\n",
            "Epoch 15/40\n",
            "49/49 [==============================] - 40s 824ms/step - loss: 0.4500 - accuracy: 0.8459 - val_loss: 2.0742 - val_accuracy: 0.5000\n",
            "Epoch 16/40\n",
            "49/49 [==============================] - 40s 816ms/step - loss: 0.3803 - accuracy: 0.8879 - val_loss: 2.2883 - val_accuracy: 0.4000\n",
            "Epoch 17/40\n",
            "49/49 [==============================] - 40s 825ms/step - loss: 0.4258 - accuracy: 0.8429 - val_loss: 2.3059 - val_accuracy: 0.4000\n",
            "Epoch 18/40\n",
            "49/49 [==============================] - 40s 811ms/step - loss: 0.3519 - accuracy: 0.8822 - val_loss: 1.6808 - val_accuracy: 0.5333\n",
            "Epoch 19/40\n",
            "49/49 [==============================] - 40s 813ms/step - loss: 0.3434 - accuracy: 0.8821 - val_loss: 2.2779 - val_accuracy: 0.4667\n",
            "Epoch 20/40\n",
            "49/49 [==============================] - 39s 807ms/step - loss: 0.4028 - accuracy: 0.8603 - val_loss: 2.1680 - val_accuracy: 0.4000\n",
            "Epoch 21/40\n",
            "49/49 [==============================] - 40s 807ms/step - loss: 0.3782 - accuracy: 0.8653 - val_loss: 2.5166 - val_accuracy: 0.4333\n",
            "Epoch 22/40\n",
            "49/49 [==============================] - 40s 809ms/step - loss: 0.3707 - accuracy: 0.8710 - val_loss: 1.7840 - val_accuracy: 0.4333\n",
            "Epoch 23/40\n",
            "49/49 [==============================] - 39s 796ms/step - loss: 0.3593 - accuracy: 0.8676 - val_loss: 2.5124 - val_accuracy: 0.4667\n",
            "Epoch 24/40\n",
            "49/49 [==============================] - 39s 793ms/step - loss: 0.3701 - accuracy: 0.8490 - val_loss: 2.4048 - val_accuracy: 0.3667\n",
            "Epoch 25/40\n",
            "49/49 [==============================] - 39s 794ms/step - loss: 0.3378 - accuracy: 0.8595 - val_loss: 2.8699 - val_accuracy: 0.4667\n",
            "Epoch 26/40\n",
            "49/49 [==============================] - 39s 797ms/step - loss: 0.3488 - accuracy: 0.8672 - val_loss: 2.4432 - val_accuracy: 0.5333\n",
            "Epoch 27/40\n",
            "49/49 [==============================] - 39s 793ms/step - loss: 0.3327 - accuracy: 0.8754 - val_loss: 2.2331 - val_accuracy: 0.4667\n",
            "Epoch 28/40\n",
            "49/49 [==============================] - 39s 794ms/step - loss: 0.3194 - accuracy: 0.8923 - val_loss: 2.3113 - val_accuracy: 0.5333\n",
            "Epoch 29/40\n",
            "49/49 [==============================] - 39s 792ms/step - loss: 0.3492 - accuracy: 0.8679 - val_loss: 2.9661 - val_accuracy: 0.5000\n",
            "Epoch 30/40\n",
            "49/49 [==============================] - 39s 793ms/step - loss: 0.3180 - accuracy: 0.8858 - val_loss: 2.4440 - val_accuracy: 0.4000\n",
            "Epoch 31/40\n",
            "49/49 [==============================] - 39s 800ms/step - loss: 0.2816 - accuracy: 0.8879 - val_loss: 3.0140 - val_accuracy: 0.5000\n",
            "Epoch 32/40\n",
            "49/49 [==============================] - 39s 805ms/step - loss: 0.3128 - accuracy: 0.9061 - val_loss: 2.8261 - val_accuracy: 0.5333\n",
            "Epoch 33/40\n",
            "49/49 [==============================] - 39s 797ms/step - loss: 0.2873 - accuracy: 0.8884 - val_loss: 3.0392 - val_accuracy: 0.4000\n",
            "Epoch 34/40\n",
            "49/49 [==============================] - 39s 803ms/step - loss: 0.4147 - accuracy: 0.8453 - val_loss: 3.5267 - val_accuracy: 0.3000\n",
            "Epoch 35/40\n",
            "49/49 [==============================] - 40s 798ms/step - loss: 0.3334 - accuracy: 0.8779 - val_loss: 3.7177 - val_accuracy: 0.3667\n",
            "Epoch 36/40\n",
            "49/49 [==============================] - 39s 791ms/step - loss: 0.2682 - accuracy: 0.9175 - val_loss: 3.7744 - val_accuracy: 0.4000\n",
            "Epoch 37/40\n",
            "49/49 [==============================] - 39s 803ms/step - loss: 0.3097 - accuracy: 0.8723 - val_loss: 3.0602 - val_accuracy: 0.5000\n",
            "Epoch 38/40\n",
            "49/49 [==============================] - 39s 794ms/step - loss: 0.3257 - accuracy: 0.8820 - val_loss: 2.9599 - val_accuracy: 0.4000\n",
            "Epoch 39/40\n",
            "49/49 [==============================] - 40s 821ms/step - loss: 0.2953 - accuracy: 0.8660 - val_loss: 2.6706 - val_accuracy: 0.4667\n",
            "Epoch 40/40\n",
            "49/49 [==============================] - 40s 821ms/step - loss: 0.2694 - accuracy: 0.9225 - val_loss: 3.7027 - val_accuracy: 0.4333\n"
          ],
          "name": "stdout"
        }
      ]
    },
    {
      "cell_type": "code",
      "metadata": {
        "id": "35NXDAh6haqe",
        "colab": {
          "base_uri": "https://localhost:8080/",
          "height": 298
        },
        "outputId": "25ee856c-6ebf-45eb-9980-f856b698ce5b"
      },
      "source": [
        "import matplotlib.pyplot as plt\n",
        "acc = history.history['accuracy']\n",
        "val_acc = history.history['val_accuracy']\n",
        "loss = history.history['loss']\n",
        "val_loss = history.history['val_loss']\n",
        "\n",
        "epochs = range(len(acc))\n",
        "\n",
        "plt.plot(epochs, acc, 'r', label='Training accuracy')\n",
        "plt.plot(epochs, val_acc, 'b', label='Validation accuracy')\n",
        "plt.title('Training and validation accuracy')\n",
        "plt.legend(loc=0)\n",
        "plt.figure()\n",
        "\n",
        "\n",
        "plt.show()"
      ],
      "execution_count": 27,
      "outputs": [
        {
          "output_type": "display_data",
          "data": {
            "image/png": "[encoded data removed]",
            "text/plain": [
              "<Figure size 432x288 with 1 Axes>"
            ]
          },
          "metadata": {
            "tags": [],
            "needs_background": "light"
          }
        },
        {
          "output_type": "display_data",
          "data": {
            "text/plain": [
              "<Figure size 432x288 with 0 Axes>"
            ]
          },
          "metadata": {
            "tags": []
          }
        }
      ]
    },
    {
      "cell_type": "code",
      "metadata": {
        "colab": {
          "resources": {
            "http://localhost:8080/nbextensions/google.colab/files.js": {
              "data": "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",
              "ok": true,
              "headers": [
                [
                  "content-type",
                  "application/javascript"
                ]
              ],
              "status": 200,
              "status_text": ""
            }
          },
          "base_uri": "https://localhost:8080/",
          "height": 123
        },
        "id": "xI9slFshO2V7",
        "outputId": "49a1128c-2359-4489-f592-817c1e182016"
      },
      "source": [
        "import numpy as np\n",
        "from google.colab import files\n",
        "from keras.preprocessing import image\n",
        "\n",
        "uploaded = files.upload()\n",
        "\n",
        "for fn in uploaded.keys():\n",
        " \n",
        "  # predicting images\n",
        "  path = fn\n",
        "  img = image.load_img(path, target_size=(300, 300))\n",
        "  x = image.img_to_array(img)\n",
        "  x = np.expand_dims(x, axis=0)\n",
        "\n",
        "  images = np.vstack([x])\n",
        "  classes = model.predict(images, batch_size=10)\n",
        "  print(fn)\n",
        "  print(classes)"
      ],
      "execution_count": 30,
      "outputs": [
        {
          "output_type": "display_data",
          "data": {
            "text/html": [
              "\n",
              "     <input type=\"file\" id=\"files-8773389a-f205-4440-acd0-25da778664e3\" name=\"files[]\" multiple disabled\n",
              "        style=\"border:none\" />\n",
              "     <output id=\"result-8773389a-f205-4440-acd0-25da778664e3\">\n",
              "      Upload widget is only available when the cell has been executed in the\n",
              "      current browser session. Please rerun this cell to enable.\n",
              "      </output>\n",
              "      <script src=\"/nbextensions/google.colab/files.js\"></script> "
            ],
            "text/plain": [
              "<IPython.core.display.HTML object>"
            ]
          },
          "metadata": {
            "tags": []
          }
        },
        {
          "output_type": "stream",
          "text": [
            "Saving spot-_0_2023.jpg to spot-_0_2023.jpg\n",
            "spot-_0_2023.jpg\n",
            "[[2.7055162e-15 1.8943723e-26 2.0689992e-17 3.5285818e-35 4.5151708e-14\n",
            "  1.0000000e+00 1.5431027e-24]]\n"
          ],
          "name": "stdout"
        }
      ]
    }
  ]
}
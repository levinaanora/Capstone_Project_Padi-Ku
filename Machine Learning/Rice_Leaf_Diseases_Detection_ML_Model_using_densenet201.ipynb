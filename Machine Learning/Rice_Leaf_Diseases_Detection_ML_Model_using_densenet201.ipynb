{
  "nbformat": 4,
  "nbformat_minor": 0,
  "metadata": {
    "colab": {
      "name": "Rice Leaf Diseases Detection ML Model.ipynb",
      "provenance": []
    },
    "kernelspec": {
      "name": "python3",
      "display_name": "Python 3"
    },
    "language_info": {
      "name": "python"
    },
    "accelerator": "GPU"
  },
  "cells": [
    {
      "cell_type": "code",
      "metadata": {
        "id": "0UKKj5zumBGR"
      },
      "source": [
        "! mkdir \"/content/kaggle\"\n",
        "! mkdir \"/content/kaggle/datasets\"\n",
        "! cp -r \"/content/drive/MyDrive/Kaggle/Rice Plant Detection\" \"/content/kaggle/datasets\""
      ],
      "execution_count": 1,
      "outputs": []
    },
    {
      "cell_type": "code",
      "metadata": {
        "id": "E71EJXjbdKNm"
      },
      "source": [
        "import os\n",
        "Training_dir = os.path.join(\"/content/kaggle/datasets/Rice Plant Detection/RiceDiseaseDataset/train\")\n",
        "Testing_dir = os.path.join(\"/content/kaggle/datasets/Rice Plant Detection/RiceDiseaseDataset/validation\")\n",
        "brownspot_dir = os.path.join(\"/content/kaggle/datasets/Rice Plant Detection/RiceDiseaseDataset/train/BrownSpot\")\n",
        "healthy_dir = os.path.join(\"/content/kaggle/datasets/Rice Plant Detection/RiceDiseaseDataset/train/Healthy\")\n",
        "hispa_dir = os.path.join(\"/content/kaggle/datasets/Rice Plant Detection/RiceDiseaseDataset/train/Hispa\")\n",
        "leafblast_dir = os.path.join(\"/content/kaggle/datasets/Rice Plant Detection/RiceDiseaseDataset/train/LeafBlast\")\n",
        "brownspot_files = os.listdir(brownspot_dir)\n",
        "healthy_files = os.listdir(healthy_dir)\n",
        "hispa_files = os.listdir(hispa_dir)\n",
        "leafblast_files = os.listdir(leafblast_dir)"
      ],
      "execution_count": 3,
      "outputs": []
    },
    {
      "cell_type": "code",
      "metadata": {
        "id": "fDqjLFXSfOt3",
        "colab": {
          "base_uri": "https://localhost:8080/"
        },
        "outputId": "7b85d971-c876-4f3e-815e-18a74491d238"
      },
      "source": [
        "print('total training brown spot:', len(os.listdir(brownspot_dir)))\n",
        "print('total training healthy:', len(os.listdir(healthy_dir)))\n",
        "print('total training hispa:', len(os.listdir(hispa_dir)))\n",
        "print('total training leaf blast:', len(os.listdir(leafblast_dir)))"
      ],
      "execution_count": 4,
      "outputs": [
        {
          "output_type": "stream",
          "text": [
            "total training brown spot: 400\n",
            "total training healthy: 400\n",
            "total training hispa: 400\n",
            "total training leaf blast: 400\n"
          ],
          "name": "stdout"
        }
      ]
    },
    {
      "cell_type": "code",
      "metadata": {
        "id": "KTZGmIbGfoTK"
      },
      "source": [
        "%matplotlib inline\n",
        "\n",
        "import matplotlib.pyplot as plt\n",
        "import matplotlib.image as mpimg\n",
        "\n",
        "pic_index = 2\n",
        "\n",
        "next_brownspot = [os.path.join(brownspot_dir, fname) \n",
        "                for fname in brownspot_files[pic_index-2:pic_index]]\n",
        "next_healthy = [os.path.join(healthy_dir, fname) \n",
        "                for fname in healthy_files[pic_index-2:pic_index]]\n",
        "next_hispa = [os.path.join(hispa_dir, fname) \n",
        "                for fname in hispa_files[pic_index-2:pic_index]]\n",
        "next_leafblast = [os.path.join(leafblast_dir, fname) \n",
        "                for fname in leafblast_files[pic_index-2:pic_index]]\n",
        "\n",
        "for i, img_path in enumerate(next_brownspot+next_healthy+next_hispa+next_leafblast):\n",
        "  img = mpimg.imread(img_path)\n",
        "  plt.imshow(img)\n",
        "  plt.axis('Off')\n",
        "  plt.show()"
      ],
      "execution_count": null,
      "outputs": []
    },
    {
      "cell_type": "code",
      "metadata": {
        "id": "LH653c_hhR39"
      },
      "source": [
        "import tensorflow as tf\n",
        "import keras_preprocessing\n",
        "import matplotlib.pyplot as plt\n",
        "from keras_preprocessing import image\n",
        "from keras_preprocessing.image import ImageDataGenerator\n",
        "from keras.optimizers import Adam\n",
        "from keras.applications import DenseNet201"
      ],
      "execution_count": 6,
      "outputs": []
    },
    {
      "cell_type": "code",
      "metadata": {
        "id": "35NXDAh6haqe",
        "colab": {
          "base_uri": "https://localhost:8080/"
        },
        "outputId": "3ccad75d-567c-442b-e92a-35b25845ba0f"
      },
      "source": [
        "training_datagen = ImageDataGenerator(\n",
        "      rescale = 1./255,\n",
        "\t    rotation_range=30,\n",
        "      width_shift_range=0.2,\n",
        "      height_shift_range=0.2,\n",
        "      shear_range=0.2,\n",
        "      zoom_range=0.2,\n",
        "      horizontal_flip=True,\n",
        "      fill_mode='nearest')\n",
        "validation_datagen = ImageDataGenerator(rescale = 1./255)\n",
        "\n",
        "train_generator = training_datagen.flow_from_directory(\n",
        "\tTraining_dir,\n",
        "\ttarget_size=(100,100),\n",
        "\tclass_mode='categorical',\n",
        "  batch_size=32\n",
        ")\n",
        "validation_generator = validation_datagen.flow_from_directory(\n",
        "\tTesting_dir,\n",
        "\ttarget_size=(100,100),\n",
        "\tclass_mode='categorical',\n",
        "  batch_size=32\n",
        ")"
      ],
      "execution_count": 7,
      "outputs": [
        {
          "output_type": "stream",
          "text": [
            "Found 1600 images belonging to 4 classes.\n",
            "Found 492 images belonging to 4 classes.\n"
          ],
          "name": "stdout"
        }
      ]
    },
    {
      "cell_type": "code",
      "metadata": {
        "id": "_7S0t05I2Mfp"
      },
      "source": [
        "pretrained_model = tf.keras.applications.DenseNet201(input_shape=(100,100,3),include_top=False,weights='imagenet',pooling='avg')\n",
        "pretrained_model.trainable = False"
      ],
      "execution_count": null,
      "outputs": []
    },
    {
      "cell_type": "code",
      "metadata": {
        "id": "bEaGou12hmdx"
      },
      "source": [
        "input_model = pretrained_model.input\n",
        "layer_tambah = tf.keras.layers.Dense(1024, activation='relu')(pretrained_model.output)\n",
        "output_model = tf.keras.layers.Dense(4, activation='softmax')(layer_tambah)\n",
        "model = tf.keras.Model(inputs=input_model, outputs=output_model)"
      ],
      "execution_count": 17,
      "outputs": []
    },
    {
      "cell_type": "code",
      "metadata": {
        "id": "Szp40L92hpTJ"
      },
      "source": [
        "model.summary()"
      ],
      "execution_count": null,
      "outputs": []
    },
    {
      "cell_type": "code",
      "metadata": {
        "id": "nxcFhmspjF-3"
      },
      "source": [
        "loss_param = \"categorical_crossentropy\"\n",
        "EPOCHS = 40\n",
        "optim = Adam(lr=0.0001)\n",
        "steps = 50"
      ],
      "execution_count": 19,
      "outputs": []
    },
    {
      "cell_type": "code",
      "metadata": {
        "colab": {
          "base_uri": "https://localhost:8080/"
        },
        "id": "h1u6bUBCf6Wu",
        "outputId": "9f2ee8c6-c12a-43d3-c873-615a063604aa"
      },
      "source": [
        "model.compile(loss = loss_param, optimizer= optim, metrics=['accuracy'])\n",
        "history = model.fit(train_generator, epochs=EPOCHS, steps_per_epoch=steps, validation_data = validation_generator, verbose = 1, validation_steps=3)"
      ],
      "execution_count": 20,
      "outputs": [
        {
          "output_type": "stream",
          "text": [
            "Epoch 1/40\n",
            "50/50 [==============================] - 230s 4s/step - loss: 1.4483 - accuracy: 0.3221 - val_loss: 1.2155 - val_accuracy: 0.4583\n",
            "Epoch 2/40\n",
            "50/50 [==============================] - 184s 4s/step - loss: 1.2094 - accuracy: 0.4556 - val_loss: 1.2160 - val_accuracy: 0.4062\n",
            "Epoch 3/40\n",
            "50/50 [==============================] - 181s 4s/step - loss: 1.1508 - accuracy: 0.4794 - val_loss: 1.1954 - val_accuracy: 0.4583\n",
            "Epoch 4/40\n",
            "50/50 [==============================] - 180s 4s/step - loss: 1.1405 - accuracy: 0.4978 - val_loss: 1.1558 - val_accuracy: 0.4896\n",
            "Epoch 5/40\n",
            "50/50 [==============================] - 182s 4s/step - loss: 1.0942 - accuracy: 0.5349 - val_loss: 1.1096 - val_accuracy: 0.5417\n",
            "Epoch 6/40\n",
            "50/50 [==============================] - 180s 4s/step - loss: 1.0457 - accuracy: 0.5433 - val_loss: 1.1280 - val_accuracy: 0.4479\n",
            "Epoch 7/40\n",
            "50/50 [==============================] - 181s 4s/step - loss: 1.0199 - accuracy: 0.5573 - val_loss: 1.4341 - val_accuracy: 0.3750\n",
            "Epoch 8/40\n",
            "50/50 [==============================] - 180s 4s/step - loss: 1.0301 - accuracy: 0.5581 - val_loss: 1.0659 - val_accuracy: 0.5208\n",
            "Epoch 9/40\n",
            "50/50 [==============================] - 181s 4s/step - loss: 1.0003 - accuracy: 0.5595 - val_loss: 1.0902 - val_accuracy: 0.5104\n",
            "Epoch 10/40\n",
            "50/50 [==============================] - 180s 4s/step - loss: 0.9847 - accuracy: 0.5795 - val_loss: 1.1925 - val_accuracy: 0.5104\n",
            "Epoch 11/40\n",
            "50/50 [==============================] - 179s 4s/step - loss: 0.9821 - accuracy: 0.5665 - val_loss: 1.0043 - val_accuracy: 0.6250\n",
            "Epoch 12/40\n",
            "50/50 [==============================] - 180s 4s/step - loss: 0.9867 - accuracy: 0.5764 - val_loss: 1.0377 - val_accuracy: 0.5521\n",
            "Epoch 13/40\n",
            "50/50 [==============================] - 180s 4s/step - loss: 0.9993 - accuracy: 0.5612 - val_loss: 1.0519 - val_accuracy: 0.5104\n",
            "Epoch 14/40\n",
            "50/50 [==============================] - 183s 4s/step - loss: 0.9874 - accuracy: 0.5947 - val_loss: 1.1712 - val_accuracy: 0.4792\n",
            "Epoch 15/40\n",
            "50/50 [==============================] - 181s 4s/step - loss: 0.9689 - accuracy: 0.5828 - val_loss: 1.0690 - val_accuracy: 0.5000\n",
            "Epoch 16/40\n",
            "50/50 [==============================] - 181s 4s/step - loss: 0.9759 - accuracy: 0.5722 - val_loss: 1.0135 - val_accuracy: 0.5312\n",
            "Epoch 17/40\n",
            "50/50 [==============================] - 183s 4s/step - loss: 0.9901 - accuracy: 0.5950 - val_loss: 1.1973 - val_accuracy: 0.4167\n",
            "Epoch 18/40\n",
            "50/50 [==============================] - 184s 4s/step - loss: 0.9629 - accuracy: 0.5964 - val_loss: 0.9946 - val_accuracy: 0.5312\n",
            "Epoch 19/40\n",
            "50/50 [==============================] - 184s 4s/step - loss: 0.9728 - accuracy: 0.5880 - val_loss: 1.0648 - val_accuracy: 0.5625\n",
            "Epoch 20/40\n",
            "50/50 [==============================] - 185s 4s/step - loss: 0.9320 - accuracy: 0.6141 - val_loss: 1.1714 - val_accuracy: 0.4896\n",
            "Epoch 21/40\n",
            "50/50 [==============================] - 185s 4s/step - loss: 0.9175 - accuracy: 0.6141 - val_loss: 1.1013 - val_accuracy: 0.5104\n",
            "Epoch 22/40\n",
            "50/50 [==============================] - 185s 4s/step - loss: 0.9265 - accuracy: 0.5942 - val_loss: 1.0402 - val_accuracy: 0.5312\n",
            "Epoch 23/40\n",
            "50/50 [==============================] - 184s 4s/step - loss: 0.9378 - accuracy: 0.6087 - val_loss: 1.1607 - val_accuracy: 0.5312\n",
            "Epoch 24/40\n",
            "50/50 [==============================] - 184s 4s/step - loss: 0.9600 - accuracy: 0.5928 - val_loss: 1.0223 - val_accuracy: 0.5833\n",
            "Epoch 25/40\n",
            "50/50 [==============================] - 185s 4s/step - loss: 0.8808 - accuracy: 0.6375 - val_loss: 1.1499 - val_accuracy: 0.5417\n",
            "Epoch 26/40\n",
            "50/50 [==============================] - 185s 4s/step - loss: 0.9038 - accuracy: 0.5876 - val_loss: 1.1379 - val_accuracy: 0.4792\n",
            "Epoch 27/40\n",
            "50/50 [==============================] - 183s 4s/step - loss: 0.8922 - accuracy: 0.6295 - val_loss: 1.1489 - val_accuracy: 0.4792\n",
            "Epoch 28/40\n",
            "50/50 [==============================] - 184s 4s/step - loss: 0.8944 - accuracy: 0.6030 - val_loss: 1.2253 - val_accuracy: 0.4792\n",
            "Epoch 29/40\n",
            "50/50 [==============================] - 184s 4s/step - loss: 0.9016 - accuracy: 0.6187 - val_loss: 0.9836 - val_accuracy: 0.6146\n",
            "Epoch 30/40\n",
            "50/50 [==============================] - 184s 4s/step - loss: 0.9241 - accuracy: 0.6071 - val_loss: 1.0143 - val_accuracy: 0.5938\n",
            "Epoch 31/40\n",
            "50/50 [==============================] - 183s 4s/step - loss: 0.9046 - accuracy: 0.5977 - val_loss: 1.2050 - val_accuracy: 0.5208\n",
            "Epoch 32/40\n",
            "50/50 [==============================] - 184s 4s/step - loss: 0.9165 - accuracy: 0.6042 - val_loss: 1.1418 - val_accuracy: 0.4792\n",
            "Epoch 33/40\n",
            "50/50 [==============================] - 184s 4s/step - loss: 0.9211 - accuracy: 0.6144 - val_loss: 1.0917 - val_accuracy: 0.5000\n",
            "Epoch 34/40\n",
            "50/50 [==============================] - 181s 4s/step - loss: 0.8874 - accuracy: 0.6301 - val_loss: 1.1173 - val_accuracy: 0.5417\n",
            "Epoch 35/40\n",
            "50/50 [==============================] - 179s 4s/step - loss: 0.8754 - accuracy: 0.6402 - val_loss: 1.0388 - val_accuracy: 0.5417\n",
            "Epoch 36/40\n",
            "50/50 [==============================] - 180s 4s/step - loss: 0.8488 - accuracy: 0.6409 - val_loss: 1.0422 - val_accuracy: 0.5312\n",
            "Epoch 37/40\n",
            "50/50 [==============================] - 178s 4s/step - loss: 0.8944 - accuracy: 0.6290 - val_loss: 0.9772 - val_accuracy: 0.5833\n",
            "Epoch 38/40\n",
            "50/50 [==============================] - 180s 4s/step - loss: 0.8909 - accuracy: 0.6218 - val_loss: 1.0214 - val_accuracy: 0.5312\n",
            "Epoch 39/40\n",
            "50/50 [==============================] - 180s 4s/step - loss: 0.8970 - accuracy: 0.6137 - val_loss: 1.1108 - val_accuracy: 0.5521\n",
            "Epoch 40/40\n",
            "50/50 [==============================] - 179s 4s/step - loss: 0.8856 - accuracy: 0.6279 - val_loss: 0.9184 - val_accuracy: 0.5833\n"
          ],
          "name": "stdout"
        }
      ]
    },
    {
      "cell_type": "code",
      "metadata": {
        "id": "wCsI65JHhy3G",
        "colab": {
          "base_uri": "https://localhost:8080/",
          "height": 298
        },
        "outputId": "9d82a623-4b65-4e65-df51-4346343c0526"
      },
      "source": [
        "import matplotlib.pyplot as plt\n",
        "acc = history.history['accuracy']\n",
        "val_acc = history.history['val_accuracy']\n",
        "loss = history.history['loss']\n",
        "val_loss = history.history['val_loss']\n",
        "\n",
        "epochs = range(len(acc))\n",
        "\n",
        "plt.plot(epochs, acc, 'r', label='Training accuracy')\n",
        "plt.plot(epochs, val_acc, 'b', label='Validation accuracy')\n",
        "plt.title('Training and validation accuracy')\n",
        "plt.legend(loc=0)\n",
        "plt.figure()\n",
        "\n",
        "\n",
        "plt.show()"
      ],
      "execution_count": 21,
      "outputs": [
        {
          "output_type": "display_data",
          "data": {
            "image/png": "[encoded data removed]",
            "text/plain": [
              "<Figure size 432x288 with 1 Axes>"
            ]
          },
          "metadata": {
            "tags": [],
            "needs_background": "light"
          }
        },
        {
          "output_type": "display_data",
          "data": {
            "text/plain": [
              "<Figure size 432x288 with 0 Axes>"
            ]
          },
          "metadata": {
            "tags": []
          }
        }
      ]
    }
  ]
}